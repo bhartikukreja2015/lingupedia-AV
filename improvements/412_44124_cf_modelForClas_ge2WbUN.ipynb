{
 "cells": [
  {
   "cell_type": "code",
   "execution_count": 1,
   "metadata": {},
   "outputs": [],
   "source": [
    "from sklearn.naive_bayes import MultinomialNB\n",
    "from sklearn.feature_extraction.text import TfidfVectorizer\n",
    "from sklearn.pipeline import make_pipeline\n",
    "from sklearn.preprocessing import Normalizer\n",
    "import pickle\n",
    "import json\n",
    "from nltk.stem.wordnet import WordNetLemmatizer\n",
    "import nltk\n",
    "import numpy as np"
   ]
  },
  {
   "cell_type": "code",
   "execution_count": 7,
   "metadata": {},
   "outputs": [],
   "source": [
    "import pandas as pd\n",
    "trainData = pd.read_csv('CleanData.csv',sep=',')\n",
    "testData = pd.read_csv('CleanDataTest.csv',sep=',')"
   ]
  },
  {
   "cell_type": "code",
   "execution_count": 110,
   "metadata": {},
   "outputs": [],
   "source": [
    "fileOpen = open('stopwords.txt','r')\n",
    "StopWords = []\n",
    "for eachWord in fileOpen:\n",
    "    StopWords.append(eachWord.strip())\n",
    "fileOpen.close()"
   ]
  },
  {
   "cell_type": "code",
   "execution_count": 111,
   "metadata": {},
   "outputs": [
    {
     "data": {
      "text/plain": [
       "Index(['id', 'tweet', 'isVulgar', 'emoScore', 'label'], dtype='object')"
      ]
     },
     "execution_count": 111,
     "metadata": {},
     "output_type": "execute_result"
    }
   ],
   "source": [
    "trainData.columns"
   ]
  },
  {
   "cell_type": "code",
   "execution_count": 112,
   "metadata": {},
   "outputs": [
    {
     "data": {
      "text/plain": [
       "Index(['id', 'tweet', 'isVulgar', 'emoScore'], dtype='object')"
      ]
     },
     "execution_count": 112,
     "metadata": {},
     "output_type": "execute_result"
    }
   ],
   "source": [
    "testData.columns"
   ]
  },
  {
   "cell_type": "code",
   "execution_count": 113,
   "metadata": {},
   "outputs": [],
   "source": [
    "#Analysing TFIDF vectors \n",
    "def top_tfidf_feats(row, features, top_n=50):\n",
    "    ''' Get top n tfidf values in row and return them with their corresponding feature names.'''\n",
    "    topn_ids = np.argsort(row)[::-1][:top_n]\n",
    "    top_feats = [(features[i], row[i]) for i in topn_ids]\n",
    "    df = pd.DataFrame(top_feats)\n",
    "    df.columns = ['feature', 'tfidf']\n",
    "    return df\n",
    "\n",
    "def top_feats_in_doc(Xtr, features, row_id, top_n=50):\n",
    "    ''' Top tfidf features in specific document (matrix row) '''\n",
    "    row = np.squeeze(Xtr[row_id].toarray())\n",
    "    return top_tfidf_feats(row, features, top_n)\n",
    "\n",
    "def top_mean_feats(Xtr, features, grp_ids=None, min_tfidf=0.1, top_n=50):\n",
    "    ''' Return the top n features that on average are most important amongst documents in rows\n",
    "        indentified by indices in grp_ids. '''\n",
    "    if grp_ids:\n",
    "        D = Xtr[grp_ids].toarray()\n",
    "    else:\n",
    "        D = Xtr.toarray()\n",
    "\n",
    "    D[D < min_tfidf] = 0\n",
    "    tfidf_means = np.mean(D, axis=0)\n",
    "    return top_tfidf_feats(tfidf_means, features, top_n)\n",
    "\n",
    "def top_feats_by_class(Xtr, y, features, min_tfidf=0.1, top_n=50):\n",
    "    ''' Return a list of dfs, where each df holds top_n features and their mean tfidf value\n",
    "        calculated across documents with the same class label. '''\n",
    "    dfs = []\n",
    "    labels = np.unique(y)\n",
    "    for label in labels:\n",
    "        ids = np.where(y==label)\n",
    "        feats_df = top_mean_feats(Xtr, features, ids, min_tfidf=min_tfidf, top_n=top_n)\n",
    "        feats_df.label = label\n",
    "        dfs.append(feats_df)\n",
    "    return dfs\n",
    "\n",
    "def plot_tfidf_classfeats_h(dfs):\n",
    "    ''' Plot the data frames returned by the function plot_tfidf_classfeats(). '''\n",
    "    fig = plt.figure(figsize=(12, 9), facecolor=\"w\")\n",
    "    x = np.arange(len(dfs[0]))\n",
    "    for i, df in enumerate(dfs):\n",
    "        ax = fig.add_subplot(1, len(dfs), i+1)\n",
    "        ax.spines[\"top\"].set_visible(False)\n",
    "        ax.spines[\"right\"].set_visible(False)\n",
    "        ax.set_frame_on(False)\n",
    "        ax.get_xaxis().tick_bottom()\n",
    "        ax.get_yaxis().tick_left()\n",
    "        ax.set_xlabel(\"Mean Tf-Idf Score\", labelpad=16, fontsize=14)\n",
    "        ax.set_title(\"label = \" + str(df.label), fontsize=16)\n",
    "        ax.ticklabel_format(axis='x', style='sci', scilimits=(-2,2))\n",
    "        ax.barh(x, df.tfidf, align='center', color='#3F5D7D')\n",
    "        ax.set_yticks(x)\n",
    "        ax.set_ylim([-1, x[-1]+1])\n",
    "        yticks = ax.set_yticklabels(df.feature)\n",
    "        plt.subplots_adjust(bottom=0.09, right=0.97, left=0.15, top=0.95, wspace=0.80)\n",
    "    plt.savefig('tfidf_words_picked_class_wise.png')\n",
    "    plt.show()"
   ]
  },
  {
   "cell_type": "code",
   "execution_count": 114,
   "metadata": {},
   "outputs": [],
   "source": [
    "import matplotlib.pyplot as plt\n",
    "%matplotlib inline\n",
    "def plot_confusion_matrix(cm, classes,file_name,\n",
    "                          normalize=False,\n",
    "                          title='Confusion matrix',\n",
    "                          cmap=plt.cm.Blues):\n",
    "    \"\"\"\n",
    "    This function prints and plots the confusion matrix.\n",
    "    Normalization can be applied by setting `normalize=True`.\n",
    "    \"\"\"\n",
    "    if normalize:\n",
    "        cm = cm.astype('float') / cm.sum(axis=1)[:, np.newaxis]\n",
    "        print(\"Normalized confusion matrix\")\n",
    "    else:\n",
    "        print('Confusion matrix, without normalization')\n",
    "\n",
    "#     print(cm)\n",
    "\n",
    "    plt.imshow(cm, interpolation='nearest', cmap=cmap)\n",
    "    plt.title(title)\n",
    "    plt.colorbar()\n",
    "    tick_marks = np.arange(len(classes))\n",
    "    plt.xticks(tick_marks, classes, rotation=45)\n",
    "    plt.yticks(tick_marks, classes)\n",
    "\n",
    "    fmt = '.2f' if normalize else 'd'\n",
    "    thresh = cm.max() / 2.\n",
    "    for i, j in iter_tools.product(range(cm.shape[0]), range(cm.shape[1])):\n",
    "        plt.text(j, i, format(cm[i, j], fmt),\n",
    "                 horizontalalignment=\"center\",\n",
    "                 color=\"white\" if cm[i, j] > thresh else \"black\")\n",
    "\n",
    "    plt.tight_layout()\n",
    "    plt.ylabel('True label')\n",
    "    plt.xlabel('Predicted label')\n",
    "#     fig = plt.figure(figsize=(8,8))\n",
    "\n",
    "#     plt.figure(figsize=(10,10))\n",
    "    \n",
    "    plt.savefig(file_name)"
   ]
  },
  {
   "cell_type": "code",
   "execution_count": 115,
   "metadata": {},
   "outputs": [],
   "source": [
    "tfidfVectors = TfidfVectorizer(analyzer='word',ngram_range=(1,3),stop_words= StopWords,\n",
    "                                            norm='l2',max_features=1000,lowercase=True,sublinear_tf=True)\n",
    "X_vector = tfidfVectors.fit_transform(trainData['tweet'])"
   ]
  },
  {
   "cell_type": "code",
   "execution_count": 116,
   "metadata": {},
   "outputs": [
    {
     "data": {
      "image/png": "[encoded data removed]",
      "text/plain": [
       "<matplotlib.figure.Figure at 0x20981056630>"
      ]
     },
     "metadata": {},
     "output_type": "display_data"
    }
   ],
   "source": [
    "features = tfidfVectors.get_feature_names()\n",
    "list_features = top_feats_by_class(X_vector,trainData['label'],features)\n",
    "plot_tfidf_classfeats_h(list_features)\n"
   ]
  },
  {
   "cell_type": "code",
   "execution_count": 117,
   "metadata": {},
   "outputs": [
    {
     "data": {
      "text/plain": [
       "1000"
      ]
     },
     "execution_count": 117,
     "metadata": {},
     "output_type": "execute_result"
    }
   ],
   "source": [
    "#Adding new features to TF-IDF vectors\n",
    "XArray = X_vector.toarray()\n",
    "X = XArray\n",
    "len(X[0])\n"
   ]
  },
  {
   "cell_type": "code",
   "execution_count": 118,
   "metadata": {},
   "outputs": [],
   "source": [
    "additionalFeatures = trainData[['isVulgar', 'emoScore']].as_matrix()\n",
    "X = np.concatenate((XArray,additionalFeatures),axis=1)\n"
   ]
  },
  {
   "cell_type": "code",
   "execution_count": 78,
   "metadata": {},
   "outputs": [],
   "source": [
    "# additionalFeatures2 = trainData[['emoScore']].as_matrix()\n",
    "# X = np.concatenate((XArray,additionalFeatures2),axis=1)\n"
   ]
  },
  {
   "cell_type": "code",
   "execution_count": 119,
   "metadata": {},
   "outputs": [],
   "source": [
    "y = trainData['label']\n",
    "labels_sorted = sorted(list(set(y)))"
   ]
  },
  {
   "cell_type": "code",
   "execution_count": 120,
   "metadata": {},
   "outputs": [],
   "source": [
    "#Train Test Split\n",
    "#For model evaluation\n",
    "from sklearn.model_selection import train_test_split\n",
    "from sklearn.preprocessing import label_binarize\n",
    "from sklearn import preprocessing\n",
    "from sklearn.model_selection import GridSearchCV\n",
    "from sklearn.metrics import confusion_matrix\n",
    "import itertools as iter_tools\n",
    "\n",
    "def get_train_test_split(X,y):\n",
    "    X_train, X_test, y_train, y_test = train_test_split(\n",
    "           X, y, test_size=0.2, random_state=42, stratify=y)\n",
    "    return (X_train, X_test, y_train, y_test)"
   ]
  },
  {
   "cell_type": "code",
   "execution_count": 121,
   "metadata": {},
   "outputs": [],
   "source": [
    "X_train, X_test, y_train, y_test = get_train_test_split(X,y)\n"
   ]
  },
  {
   "cell_type": "code",
   "execution_count": 82,
   "metadata": {},
   "outputs": [],
   "source": [
    "# # naive bayes\n",
    "# clf_nb = MultinomialNB()\n",
    "# clf_nb.fit(X_train, y_train)\n",
    "\n",
    "# pred_nb = clf_nb.predict(X_test)\n",
    "# print(clf_nb.score(X_test, y_test))\n",
    "\n",
    "# cnf_matrix_nb= confusion_matrix(y_true =y_test, y_pred  =pred_nb)\n",
    "# np.set_printoptions(precision=2)\n",
    "\n",
    "\n",
    "# # Plot non-normalized confusion matrix\n",
    "# plt.figure()\n",
    "# plot_confusion_matrix(cnf_matrix_nb, classes=labels_sorted,file_name='naive_bayes',\n",
    "#                       title='Confusion matrix, without normalization')\n",
    "# plt.show()\n"
   ]
  },
  {
   "cell_type": "code",
   "execution_count": 83,
   "metadata": {},
   "outputs": [
    {
     "name": "stdout",
     "output_type": "stream",
     "text": [
      "0.8453282828282829\n",
      "Confusion matrix, without normalization\n"
     ]
    },
    {
     "data": {
      "image/png": "[encoded data removed]",
      "text/plain": [
       "<matplotlib.figure.Figure at 0x209e3a5a080>"
      ]
     },
     "metadata": {},
     "output_type": "display_data"
    }
   ],
   "source": [
    "from sklearn.svm import SVC\n",
    "# using svm\n",
    "\n",
    "svm = SVC(C=1000000.0, gamma=\"auto\", kernel='rbf')\n",
    "svm.fit(X_train, y_train)\n",
    "# perdict on test data \n",
    "pred_svm = svm.predict(X_test)\n",
    "print(svm.score(X_test, y_test))\n",
    "#print(confusion_matrix(pred_svm, y_test))\n",
    "\n",
    "cnf_matrix_svm= confusion_matrix(y_true =y_test, y_pred  =pred_svm )\n",
    "np.set_printoptions(precision=2)\n",
    "\n",
    "# Plot non-normalized confusion matrix\n",
    "plt.figure()\n",
    "plot_confusion_matrix(cnf_matrix_svm, classes=labels_sorted,file_name='SVM',\n",
    "                      title='Confusion matrix, without normalization')\n",
    "plt.show()"
   ]
  },
  {
   "cell_type": "code",
   "execution_count": 84,
   "metadata": {},
   "outputs": [
    {
     "data": {
      "text/plain": [
       "SVC(C=1000000.0, cache_size=200, class_weight=None, coef0=0.0,\n",
       "  decision_function_shape='ovr', degree=3, gamma='auto', kernel='rbf',\n",
       "  max_iter=-1, probability=False, random_state=None, shrinking=True,\n",
       "  tol=0.001, verbose=False)"
      ]
     },
     "execution_count": 84,
     "metadata": {},
     "output_type": "execute_result"
    }
   ],
   "source": [
    "svm.fit(X, y)\n"
   ]
  },
  {
   "cell_type": "code",
   "execution_count": 85,
   "metadata": {},
   "outputs": [],
   "source": [
    "X_test = tfidfVectors.transform(testData['tweet'])\n",
    "XTestArray = X_test.toarray()\n",
    "XTest = XTestArray\n",
    "len(XTest[0])\n",
    "\n",
    "additionalTestFeatures = testData[['isVulgar', 'emoScore']].as_matrix()\n",
    "XTestFinal = np.concatenate((XTest,additionalTestFeatures),axis=1)\n",
    "\n",
    "pred_svm = svm.predict(XTestFinal)\n",
    "\n",
    "OutPut = pd.DataFrame( {'id': testData['id'],\n",
    "                     'label':pred_svm})\n",
    "\n",
    "OutPut.to_csv('submission2.csv',index=None)"
   ]
  },
  {
   "cell_type": "code",
   "execution_count": 44,
   "metadata": {},
   "outputs": [],
   "source": [
    "from xgboost import XGBClassifier\n",
    "from sklearn.metrics import accuracy_score"
   ]
  },
  {
   "cell_type": "code",
   "execution_count": 122,
   "metadata": {},
   "outputs": [
    {
     "name": "stdout",
     "output_type": "stream",
     "text": [
      "Accuracy: 88.64%\n",
      "Confusion matrix, without normalization\n"
     ]
    },
    {
     "name": "stderr",
     "output_type": "stream",
     "text": [
      "C:\\HOMEWARE\\Anaconda3-Windows-x86_64\\lib\\site-packages\\sklearn\\preprocessing\\label.py:151: DeprecationWarning: The truth value of an empty array is ambiguous. Returning False, but in future this will result in an error. Use `array.size > 0` to check that an array is not empty.\n",
      "  if diff:\n"
     ]
    },
    {
     "data": {
      "image/png": "[encoded data removed]",
      "text/plain": [
       "<matplotlib.figure.Figure at 0x209810683c8>"
      ]
     },
     "metadata": {},
     "output_type": "display_data"
    }
   ],
   "source": [
    "from xgboost import XGBClassifier\n",
    "from sklearn.metrics import accuracy_score\n",
    "# using xgboost\n",
    "\n",
    "model = XGBClassifier(max_depth=3,n_estimators=1000,learning_rate=0.1)\n",
    "model.fit(X_train, y_train)\n",
    "# make predictions for test data\n",
    "pred_xgboost = model.predict(X_test)\n",
    "#predictions = [round(value) for value in y_pred]\n",
    "# evaluate predictions\n",
    "accuracy = accuracy_score(y_test, pred_xgboost)\n",
    "print(\"Accuracy: %.2f%%\" % (accuracy * 100.0))\n",
    "\n",
    "cnf_matrix_xgboost= confusion_matrix(y_true =y_test, y_pred  =pred_xgboost )\n",
    "np.set_printoptions(precision=2)\n",
    "\n",
    "# Plot non-normalized confusion matrix\n",
    "plt.figure()\n",
    "plot_confusion_matrix(cnf_matrix_xgboost, classes=labels_sorted,file_name='xgboost',\n",
    "                      title='Confusion matrix, without normalization')\n",
    "plt.show()\n"
   ]
  },
  {
   "cell_type": "code",
   "execution_count": 123,
   "metadata": {},
   "outputs": [
    {
     "name": "stderr",
     "output_type": "stream",
     "text": [
      "C:\\HOMEWARE\\Anaconda3-Windows-x86_64\\lib\\site-packages\\sklearn\\preprocessing\\label.py:151: DeprecationWarning: The truth value of an empty array is ambiguous. Returning False, but in future this will result in an error. Use `array.size > 0` to check that an array is not empty.\n",
      "  if diff:\n"
     ]
    }
   ],
   "source": [
    "X_test = tfidfVectors.transform(testData['tweet'])\n",
    "XTestArray = X_test.toarray()\n",
    "XTest = XTestArray\n",
    "len(XTest[0])\n",
    "\n",
    "additionalTestFeatures = testData[['isVulgar', 'emoScore']].as_matrix()\n",
    "XTestFinal = np.concatenate((XTest,additionalTestFeatures),axis=1)\n",
    "\n",
    "model.fit(X, y)\n",
    "\n",
    "pred_xgb = model.predict(XTestFinal)\n",
    "\n",
    "OutPut = pd.DataFrame( {'id': testData['id'],\n",
    "                     'label':pred_xgb})\n",
    "\n",
    "OutPut.to_csv('submission5.csv',index=None)"
   ]
  },
  {
   "cell_type": "code",
   "execution_count": 66,
   "metadata": {
    "collapsed": true
   },
   "outputs": [],
   "source": [
    "def multi_class_acc(cnf_mat):\n",
    "    \n",
    "    tp = [0] * 5\n",
    "    fp = [0] * 5\n",
    "    tn = [0] * 5\n",
    "    fn = [0] * 5\n",
    "    acc = [0] * 5\n",
    "    rows = cnf_mat.shape[0]\n",
    "    cols = cnf_mat.shape[1]\n",
    "    for counter in range(0,5):\n",
    "        for x in range(0, rows):\n",
    "            for y in range(0, cols):\n",
    "                if(x==y):\n",
    "                    tp[x]=cnf_mat[x][y]\n",
    "                elif(counter == x):\n",
    "                    fn[counter]=fn[counter]+cnf_mat[x][y]\n",
    "                elif(counter == y):\n",
    "                    fp[counter]=fp[counter]+cnf_mat[x][y]\n",
    "                else:\n",
    "                    tn[counter]=tn[counter]+cnf_mat[x][y]\n",
    "        acc[counter]= (tp[counter]+tn[counter])/(tp[counter]+tn[counter]+fp[counter]+fn[counter])\n",
    "    \n",
    "    print('acc',acc)"
   ]
  },
  {
   "cell_type": "code",
   "execution_count": 67,
   "metadata": {},
   "outputs": [
    {
     "name": "stdout",
     "output_type": "stream",
     "text": [
      "acc [0.9642857142857143, 0.9787234042553191, 1.0, 0.9928825622775801, 0.8]\n"
     ]
    }
   ],
   "source": [
    "multi_class_acc(cnf_matrix_xgboost)"
   ]
  },
  {
   "cell_type": "code",
   "execution_count": null,
   "metadata": {
    "collapsed": true
   },
   "outputs": [],
   "source": []
  },
  {
   "cell_type": "code",
   "execution_count": null,
   "metadata": {
    "collapsed": true
   },
   "outputs": [],
   "source": []
  },
  {
   "cell_type": "code",
   "execution_count": null,
   "metadata": {
    "collapsed": true
   },
   "outputs": [],
   "source": []
  },
  {
   "cell_type": "code",
   "execution_count": null,
   "metadata": {
    "collapsed": true
   },
   "outputs": [],
   "source": []
  },
  {
   "cell_type": "code",
   "execution_count": null,
   "metadata": {
    "collapsed": true
   },
   "outputs": [],
   "source": []
  },
  {
   "cell_type": "code",
   "execution_count": null,
   "metadata": {
    "collapsed": true
   },
   "outputs": [],
   "source": []
  },
  {
   "cell_type": "code",
   "execution_count": null,
   "metadata": {
    "collapsed": true
   },
   "outputs": [],
   "source": []
  },
  {
   "cell_type": "code",
   "execution_count": 57,
   "metadata": {
    "collapsed": true
   },
   "outputs": [],
   "source": [
    "#For pickling model\n",
    "file_Name = \"xgb_classifier.p\"\n",
    "fileObject = open(file_Name,'wb') \n",
    "pickle.dump(model, fileObject)\n",
    "fileObject.close()\n",
    "\n",
    "#for Pickling TFIDF vectoriser\n",
    "fileNameVectoriser = \"tfidf_vectroizer_for_classification.p\"\n",
    "fileObjectVectoriser = open(fileNameVectoriser,'wb')\n",
    "pickle.dump(tfidfVectors,fileObjectVectoriser)"
   ]
  },
  {
   "cell_type": "code",
   "execution_count": 58,
   "metadata": {
    "collapsed": true
   },
   "outputs": [],
   "source": []
  },
  {
   "cell_type": "code",
   "execution_count": null,
   "metadata": {
    "collapsed": true
   },
   "outputs": [],
   "source": []
  },
  {
   "cell_type": "code",
   "execution_count": null,
   "metadata": {
    "collapsed": true
   },
   "outputs": [],
   "source": []
  },
  {
   "cell_type": "code",
   "execution_count": null,
   "metadata": {
    "collapsed": true
   },
   "outputs": [],
   "source": []
  }
 ],
 "metadata": {
  "kernelspec": {
   "display_name": "Python 3",
   "language": "python",
   "name": "python3"
  },
  "language_info": {
   "codemirror_mode": {
    "name": "ipython",
    "version": 3
   },
   "file_extension": ".py",
   "mimetype": "text/x-python",
   "name": "python",
   "nbconvert_exporter": "python",
   "pygments_lexer": "ipython3",
   "version": "3.6.4"
  }
 },
 "nbformat": 4,
 "nbformat_minor": 2
}
